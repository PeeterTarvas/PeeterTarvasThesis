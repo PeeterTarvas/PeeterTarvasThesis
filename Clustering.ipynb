{
 "cells": [
  {
   "cell_type": "markdown",
   "source": [
    "## Clusters\n",
    "Idea is to have different clusters form houses based on similarity.\n",
    "Firstly we have to figure out what to do with missing data.\n",
    "We don't want to delete any data because the project will have to involve all houses in Tallinn, especially given that the houses\n",
    "who have more NaN values to them are probably in worse shape and are on the top of the list for being renovated\n",
    "Since we want to have all the houses to be represented in a way that NaN values don't clump up with other values we will\n",
    "replace NaN values with the MEAN value of the column.\n",
    "By the end I will save the results in a new CSV file\n"
   ],
   "metadata": {
    "collapsed": false,
    "pycharm": {
     "name": "#%% md\n"
    }
   }
  },
  {
   "cell_type": "code",
   "execution_count": null,
   "outputs": [],
   "source": [
    "import numpy as np\n",
    "from matplotlib import pyplot as plt\n",
    "import pandas as pd\n",
    "import seaborn as sns\n",
    "\n",
    "data_frame: pd.DataFrame = pd.read_csv(\"bigSet32000with_derrivatives.csv\")\n",
    "\n",
    "data_null = data_frame.isna().sum()\n",
    "plt.figure(figsize=(8,8), dpi=80)\n",
    "data_null[data_null!=0].plot(kind='barh')\n",
    "\n"
   ],
   "metadata": {
    "collapsed": false,
    "pycharm": {
     "name": "#%%\n"
    }
   }
  },
  {
   "cell_type": "markdown",
   "source": [
    "\n",
    "For numerical data I will replace the NaN values with mean because that won't manipulate the truthfulness of the data that much\n",
    "For string data I will use mode to so that some data exists although this will manipulate the results I have to admit and a better solution should be found.\n",
    "\n",
    "This step should be modified by using random forest as missing value predictor"
   ],
   "metadata": {
    "collapsed": false,
    "pycharm": {
     "name": "#%% md\n"
    }
   }
  },
  {
   "cell_type": "code",
   "execution_count": null,
   "outputs": [],
   "source": [
    "# These 4 variables are just enumerations of row\n",
    "data_frame.drop(['Unnamed: 0', 'Unnamed: 0.1.1', 'Unnamed: 0.2', 'Unnamed: 0.1', 'energiaKlass', 'EHR_Code']\n",
    "                ,axis=1, inplace=True)\n",
    "data_types: dict = data_frame.dtypes\n",
    "for col_name, col_type in data_types.items():\n",
    "    if np.issubdtype(object, col_type.type) :\n",
    "        data_frame.drop([col_name], axis=1, inplace=True)\n",
    "    else:\n",
    "        # data_frame[col_name].fillna(data_frame[col_name].mode(), inplace=True)\n",
    "        data_frame[col_name].fillna(round(data_frame[col_name].mean(), 1), inplace=True)\n",
    "data_frame.to_csv(\".\\out.csv\",index=False)\n"
   ],
   "metadata": {
    "collapsed": false,
    "pycharm": {
     "name": "#%%\n"
    }
   }
  },
  {
   "cell_type": "code",
   "execution_count": null,
   "outputs": [],
   "source": [
    "def make_heatmap(data: pd.DataFrame, name: str):\n",
    "    fig, ax = plt.subplots(figsize=(15,15))\n",
    "    corr_data = data.corr()\n",
    "    sns.set()\n",
    "    ax = sns.heatmap(corr_data, vmin=0, vmax=1, square=True, linewidths=1, annot=True, cmap=\"Blues\")\n",
    "    ax.set_title(name)\n",
    "    plt.show()\n",
    "make_heatmap(data_frame, 'Dataframe heatmap')"
   ],
   "metadata": {
    "collapsed": false,
    "pycharm": {
     "name": "#%%\n"
    }
   }
  },
  {
   "cell_type": "markdown",
   "source": [],
   "metadata": {
    "collapsed": false,
    "pycharm": {
     "name": "#%% md\n"
    }
   }
  },
  {
   "cell_type": "markdown",
   "source": [
    "## Elbow method\n",
    "Next up we are going to try out a clustering algorithm\n",
    "First I'm going Bto try out a simple algorith called K-means is pretty simple, but it has a trick\n",
    "that you have to select how many clusters will there be.\n",
    "The idea is to firstly calculate the Within Cluster Sum of Squares(WCSS) to get the best cluster number.\n",
    "https://towardsdatascience.com/machine-learning-algorithms-part-9-k-means-example-in-python-f2ad05ed5203"
   ],
   "metadata": {
    "collapsed": false,
    "pycharm": {
     "name": "#%% md\n"
    }
   }
  },
  {
   "cell_type": "code",
   "execution_count": null,
   "outputs": [],
   "source": [
    "from sklearn.cluster import KMeans\n",
    "max_cluster_level: int = 20\n",
    "wcss = []\n",
    "\n",
    "cluster_range: list = list(range(2, max_cluster_level + 1))\n",
    "\n",
    "for cluster in cluster_range:\n",
    "    kmeans = KMeans(n_clusters=cluster, init='k-means++', max_iter=300, n_init=1, random_state=0)\n",
    "    kmeans.fit(data_frame)\n",
    "    wcss.append(kmeans.inertia_)\n",
    "\n",
    "plt.plot(cluster_range, wcss)\n",
    "plt.title('Elbow method')\n",
    "plt.xlabel('Nr of clusters')\n",
    "plt.ylabel('WCSS')\n",
    "plt.show()"
   ],
   "metadata": {
    "collapsed": false,
    "pycharm": {
     "name": "#%%\n"
    }
   }
  },
  {
   "cell_type": "markdown",
   "source": [
    "The best cluster leve turned out to be 4, so we will run it with that.\n",
    "Guess I will have to explain the other inputs as well"
   ],
   "metadata": {
    "collapsed": false,
    "pycharm": {
     "name": "#%% md\n"
    }
   }
  },
  {
   "cell_type": "code",
   "execution_count": null,
   "outputs": [],
   "source": [
    "from sklearn.preprocessing import MinMaxScaler\n",
    "\n",
    "#labels = list(data_frame.columns.values)\n",
    "#scaler = MinMaxScaler()\n",
    "#scaler.fit(data_frame)\n",
    "#data_frame = scaler.transform(data_frame)\n",
    "#data_frame = pd.DataFrame(data_frame, columns=labels)\n",
    "#data_frame.to_csv(\".\\out.csv\",index=False)\n"
   ],
   "metadata": {
    "collapsed": false,
    "pycharm": {
     "name": "#%%\n"
    }
   }
  },
  {
   "cell_type": "code",
   "execution_count": null,
   "outputs": [],
   "source": [
    "from sklearn.cluster import KMeans\n",
    "cluster_level = 3\n",
    "kmeans = KMeans(n_clusters=cluster_level,\n",
    "                init='k-means++',\n",
    "                max_iter=300,\n",
    "                n_init=10,\n",
    "                random_state=0,\n",
    "                )\n",
    "y_kmeans = kmeans.fit_predict(data_frame)\n",
    "data_frame['cluster'] = y_kmeans\n",
    "data_frame.to_csv(\".\\out.csv\",index=False)\n"
   ],
   "metadata": {
    "collapsed": false,
    "pycharm": {
     "name": "#%%\n"
    }
   }
  },
  {
   "cell_type": "markdown",
   "source": [],
   "metadata": {
    "collapsed": false,
    "pycharm": {
     "name": "#%% md\n"
    }
   }
  },
  {
   "cell_type": "markdown",
   "source": [
    "Now do a correlation matrix between the variables and see what variable causes the clustering\n",
    "Ref: https://medium.com/@sebastiannorena/finding-correlation-between-many-variables-multidimensional-dataset-with-python-5deb3f39ffb3"
   ],
   "metadata": {
    "collapsed": false,
    "pycharm": {
     "name": "#%% md\n"
    }
   }
  },
  {
   "cell_type": "markdown",
   "source": [
    "Let's try two methods, try to heatmap each cluster separately to see if there are any"
   ],
   "metadata": {
    "collapsed": false,
    "pycharm": {
     "name": "#%% md\n"
    }
   }
  },
  {
   "cell_type": "code",
   "execution_count": null,
   "outputs": [],
   "source": [
    "cluster_numbers: set = set(data_frame['cluster'].tolist())\n",
    "for i in cluster_numbers:\n",
    "    new_data_frame: pd.DataFrame = data_frame[data_frame.cluster == i]\n",
    "    new_data_frame.drop(['cluster'], axis=1, inplace=True)\n",
    "    make_heatmap(new_data_frame, f'Cluster: {i}')"
   ],
   "metadata": {
    "collapsed": false,
    "pycharm": {
     "name": "#%%\n"
    }
   }
  }
 ],
 "metadata": {
  "kernelspec": {
   "display_name": "Python 3",
   "language": "python",
   "name": "python3"
  },
  "language_info": {
   "codemirror_mode": {
    "name": "ipython",
    "version": 2
   },
   "file_extension": ".py",
   "mimetype": "text/x-python",
   "name": "python",
   "nbconvert_exporter": "python",
   "pygments_lexer": "ipython2",
   "version": "2.7.6"
  }
 },
 "nbformat": 4,
 "nbformat_minor": 0
}