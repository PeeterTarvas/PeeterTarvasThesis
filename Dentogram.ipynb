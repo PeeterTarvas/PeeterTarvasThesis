{
 "cells": [
  {
   "cell_type": "code",
   "execution_count": null,
   "metadata": {
    "collapsed": true,
    "pycharm": {
     "name": "#%%\n"
    }
   },
   "outputs": [],
   "source": [
    "# Here we try to use dendrogram to segment the houses and find metrics that matter\n",
    "\n",
    "\n",
    "import numpy as np\n",
    "from matplotlib import pyplot as plt\n",
    "import pandas as pd\n",
    "import seaborn as sns\n",
    "import scipy\n",
    "import sklearn\n",
    "\n",
    "from scipy.cluster.hierarchy import dendrogram, linkage, fcluster, cophenet\n",
    "from scipy.spatial.distance import pdist\n",
    "from sklearn.cluster import AgglomerativeClustering\n",
    "from pylab import rcParams\n",
    "import sklearn.metrics as sm\n",
    "\n",
    "plt.figure(figsize=(10,3))\n",
    "%matplotlib inline\n",
    "plt.style.use('seaborn-whitegrid')\n",
    "\n",
    "\n",
    "data_frame: pd.DataFrame = pd.read_csv(\"bigSet32000with_derrivatives.csv\")\n"
   ]
  },
  {
   "cell_type": "code",
   "execution_count": null,
   "outputs": [],
   "source": [
    "# These 4 variables are just enumerations of row\n",
    "data_frame.drop(['Unnamed: 0', 'Unnamed: 0.1.1', 'Unnamed: 0.2', 'Unnamed: 0.1', 'energiaKlass', 'EHR_Code']\n",
    "                ,axis=1, inplace=True)\n",
    "data_types: dict = data_frame.dtypes\n",
    "for col_name, col_type in data_types.items():\n",
    "    if np.issubdtype(object, col_type.type) :\n",
    "        data_frame.drop([col_name], axis=1, inplace=True)\n",
    "    else:\n",
    "        # data_frame[col_name].fillna(data_frame[col_name].mode(), inplace=True)\n",
    "        data_frame[col_name].fillna(round(data_frame[col_name].mean(), 1), inplace=True)\n",
    "data_frame.to_csv(\".\\out.csv\",index=False)"
   ],
   "metadata": {
    "collapsed": false,
    "pycharm": {
     "name": "#%%\n"
    }
   }
  },
  {
   "cell_type": "code",
   "execution_count": null,
   "outputs": [],
   "source": [],
   "metadata": {
    "collapsed": false,
    "pycharm": {
     "name": "#%%\n"
    }
   }
  }
 ],
 "metadata": {
  "kernelspec": {
   "display_name": "Python 3",
   "language": "python",
   "name": "python3"
  },
  "language_info": {
   "codemirror_mode": {
    "name": "ipython",
    "version": 2
   },
   "file_extension": ".py",
   "mimetype": "text/x-python",
   "name": "python",
   "nbconvert_exporter": "python",
   "pygments_lexer": "ipython2",
   "version": "2.7.6"
  }
 },
 "nbformat": 4,
 "nbformat_minor": 0
}